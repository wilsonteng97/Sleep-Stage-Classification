{
 "cells": [
  {
   "cell_type": "code",
   "execution_count": 1,
   "metadata": {},
   "outputs": [],
   "source": [
    "import numpy as np\n",
    "import pyrem as pr"
   ]
  },
  {
   "cell_type": "code",
   "execution_count": 2,
   "metadata": {},
   "outputs": [],
   "source": [
    "a = np.random.rand(128)\n",
    "b = np.ones(128)"
   ]
  },
  {
   "cell_type": "code",
   "execution_count": 3,
   "metadata": {},
   "outputs": [
    {
     "data": {
      "text/plain": [
       "array([3.16511449e-01, 5.34529774e-01, 4.50335872e-01, 2.18800842e-02,\n",
       "       9.48323154e-02, 7.43639344e-01, 3.68263162e-01, 3.58062370e-01,\n",
       "       6.37698560e-01, 4.58905230e-01, 3.21714990e-01, 7.64320825e-01,\n",
       "       4.97313649e-01, 7.78330819e-01, 3.55910513e-02, 9.27676349e-01,\n",
       "       5.92147305e-02, 2.88685923e-01, 7.92706298e-02, 8.27607506e-01,\n",
       "       5.43839724e-01, 5.34355011e-01, 4.34620337e-01, 8.55313530e-01,\n",
       "       9.87835710e-01, 3.18577127e-01, 9.61193619e-01, 7.39212111e-01,\n",
       "       4.98332259e-01, 1.19925673e-01, 2.95896625e-02, 2.40020833e-01,\n",
       "       8.31137976e-02, 7.01636758e-01, 1.11182090e-01, 9.94029909e-01,\n",
       "       7.66904847e-01, 8.12257499e-01, 7.54017860e-01, 9.00019458e-01,\n",
       "       6.91938813e-01, 4.99602110e-01, 5.04133060e-01, 4.90430761e-01,\n",
       "       7.80392586e-01, 9.21276337e-01, 8.92006785e-01, 1.67995530e-01,\n",
       "       6.02634561e-01, 3.88020592e-01, 4.18089346e-02, 9.17918109e-01,\n",
       "       7.74251670e-01, 6.88221249e-01, 5.88486303e-01, 9.43141582e-01,\n",
       "       8.73419868e-01, 5.41665059e-01, 5.82115547e-01, 2.95536506e-01,\n",
       "       7.09403968e-01, 8.46422867e-01, 7.44656458e-01, 3.64549429e-01,\n",
       "       6.89743272e-01, 4.84563602e-01, 1.30348011e-01, 3.25674559e-01,\n",
       "       7.26829402e-01, 7.93841300e-01, 1.59490158e-01, 9.68621481e-01,\n",
       "       1.22048815e-01, 8.81376695e-01, 9.54623749e-01, 9.75635837e-01,\n",
       "       3.24946085e-01, 9.76449107e-01, 9.26956426e-01, 4.77695279e-01,\n",
       "       7.61515162e-01, 2.25002833e-01, 2.45084705e-01, 1.71299741e-01,\n",
       "       5.54549621e-01, 3.06864032e-02, 4.95692855e-01, 4.41204548e-01,\n",
       "       1.56816665e-01, 2.18192009e-01, 6.50288133e-01, 3.97509147e-01,\n",
       "       6.75061862e-01, 4.26426329e-01, 4.99912480e-01, 3.71835728e-01,\n",
       "       1.47684197e-01, 2.21255446e-02, 9.66470839e-01, 7.48579641e-01,\n",
       "       9.25934965e-01, 3.13586328e-01, 8.43019575e-01, 1.88969659e-01,\n",
       "       2.68227716e-01, 2.64524969e-01, 6.74171616e-01, 2.65802871e-01,\n",
       "       3.15849587e-01, 3.37287279e-02, 6.15065170e-01, 3.17173726e-02,\n",
       "       9.01190924e-01, 5.70001854e-01, 1.00402946e-01, 2.46152158e-04,\n",
       "       9.50236242e-01, 2.90731133e-01, 4.86909433e-01, 4.84046247e-01,\n",
       "       9.85217604e-01, 6.75468955e-01, 6.80563969e-01, 4.68337891e-01,\n",
       "       1.60925797e-01, 2.12818802e-01, 1.93847111e-02, 6.77891229e-01])"
      ]
     },
     "execution_count": 3,
     "metadata": {},
     "output_type": "execute_result"
    }
   ],
   "source": [
    "a"
   ]
  },
  {
   "cell_type": "code",
   "execution_count": null,
   "metadata": {},
   "outputs": [],
   "source": [
    "b"
   ]
  },
  {
   "cell_type": "code",
   "execution_count": null,
   "metadata": {},
   "outputs": [],
   "source": [
    "def calculateStandardDeviation(a):\n",
    "    return np.std(a)\n",
    "calculateStandardDeviation(a)"
   ]
  },
  {
   "cell_type": "code",
   "execution_count": null,
   "metadata": {},
   "outputs": [],
   "source": [
    "c = np.random.normal(size=int(1e6))"
   ]
  },
  {
   "cell_type": "code",
   "execution_count": null,
   "metadata": {},
   "outputs": [],
   "source": [
    "#suppose EEG data mean very close to 0, from http://gilestrolab.github.io/pyrem/_modules/pyrem/univariate.html\n",
    "def calculateHjorth(a):\n",
    "    first_deriv = np.diff(a)\n",
    "    second_deriv = np.diff(a,2)\n",
    "    var_zero = np.mean(a ** 2)\n",
    "    var_d1 = np.mean(first_deriv ** 2)\n",
    "    var_d2 = np.mean(second_deriv ** 2)\n",
    "    activity = var_zero\n",
    "    morbidity = np.sqrt(var_d1 / var_zero)\n",
    "    complexity = np.sqrt(var_d2 / var_d1) / morbidity\n",
    "    return activity, morbidity, complexity\n",
    "calculateHjorth(c)"
   ]
  },
  {
   "cell_type": "code",
   "execution_count": null,
   "metadata": {},
   "outputs": [],
   "source": [
    "# confused by term 'slide window' in the paper\n",
    "def calculateMMD(a):\n",
    "    return np.max(a) - np.min(a) # only one dimention"
   ]
  },
  {
   "cell_type": "code",
   "execution_count": null,
   "metadata": {},
   "outputs": [],
   "source": [
    "#Petrosian Fractal Dimension, complexity\n",
    "def calculatePFD(a):\n",
    "    N = len(a)\n",
    "    diff = np.ediff1d(a)\n",
    "    sign_change = (diff[1:-1] * diff[0:-2] < 0)\n",
    "    M = sign_change.sum()\n",
    "    return np.log10(N) / (np.log10(N) + np.log10(N / (N + 0.4 * M)))\n",
    "calculatePFD(a)"
   ]
  },
  {
   "cell_type": "code",
   "execution_count": null,
   "metadata": {
    "scrolled": true
   },
   "outputs": [],
   "source": [
    "#using Katz fractal dimension instead of Normalized Line Length (NLL)\n",
    "def calculateKFD(a):\n",
    "    distance = np.abs(np.ediff1d(a))\n",
    "    LL = distance.sum() #'line length'\n",
    "    LL_normalized = np.log10(np.divide(LL, distance.mean())) #original paper uses constant hyperparameter M=1\n",
    "    aux_d = a - a[0]\n",
    "    d = np.max(np.abs(aux_d[1:]))\n",
    "    return np.divide(LL_normalized, np.add(LL_normalized, np.log10(np.divide(d, LL))))\n",
    "\n",
    "print(calculateNLL(c))\n",
    "print(calculateNLL_(c))"
   ]
  },
  {
   "cell_type": "code",
   "execution_count": 8,
   "metadata": {},
   "outputs": [
    {
     "data": {
      "image/png": "[encoded data removed]",
      "text/plain": [
       "<Figure size 432x288 with 1 Axes>"
      ]
     },
     "metadata": {
      "needs_background": "light"
     },
     "output_type": "display_data"
    },
    {
     "name": "stdout",
     "output_type": "stream",
     "text": [
      "0.7784840926998051\n"
     ]
    }
   ],
   "source": [
    "import matplotlib.pyplot as plt\n",
    "\n",
    "#Hurst Exponent\n",
    "def getLags(arr_len):\n",
    "    if arr_len == 3000:\n",
    "        return [3000, 1500, 750, 250, 125, 60, 30, 15, 8, 4, 2]\n",
    "    else:\n",
    "        return [2**x for x in range(int(np.log2(arr_len)+1))][::-1][:-1]\n",
    "\n",
    "def calculateHurstExponent(a):\n",
    "    alen = len(a)\n",
    "    if alen < 100:\n",
    "        raise f\"Not enough datapoints to calculate Hurst Exp | Only {alen} of the required 100.\"\n",
    "    lags = getLags(alen)\n",
    "    \n",
    "    ln_lag_ls = []\n",
    "    ln_Rs_ls = []\n",
    "    for i, lag in enumerate(lags):\n",
    "        chunk = a.reshape(-1, lag)\n",
    "        \n",
    "        chunk_mean = np.mean(chunk, axis=1, dtype=np.float32, keepdims=True)\n",
    "        chunk_std = np.std(chunk, axis=1, dtype=np.float32, ddof=1) # Sample Standard deviation\n",
    "        chunk_mean_centered = np.subtract(chunk, chunk_mean)\n",
    "        cum_sum = np.cumsum(chunk_mean_centered, axis=1, dtype=np.float32)\n",
    "        \n",
    "        R = np.max(cum_sum, axis=1) - np.min(cum_sum, axis=1)\n",
    "        Rs = np.divide(R, chunk_std)\n",
    "        avg_Rs = np.mean(Rs)\n",
    "        \n",
    "        ln_lag_ls.append(np.log(lag))\n",
    "        ln_Rs_ls.append(np.log(avg_Rs))\n",
    "#     print(\"x\\n\", ln_lag_ls)\n",
    "#     print(\"y\\n\", ln_Rs_ls)\n",
    "    _ = plt.plot(ln_lag_ls, ln_Rs_ls, '.')\n",
    "    plt.show()\n",
    "    m, c = np.polyfit(ln_lag_ls,ln_Rs_ls,1)\n",
    "    return m\n",
    "\n",
    "\n",
    "\n",
    "# test = np.array([0.04, 0.02, 0.05, 0.08, 0.02, -0.17, 0.05, 0.00]) # Hurst Exponent should be ~0.87\n",
    "# print(calculateHurstExponent(test)) \n",
    "\n",
    "print(calculateHurstExponent(a))"
   ]
  },
  {
   "cell_type": "code",
   "execution_count": null,
   "metadata": {},
   "outputs": [],
   "source": [
    "#Log Root Sum of Sequential Variations\n",
    "#measure the sequential variations\n",
    "def calculateLRSSV(a):\n",
    "    diff = np.ediff1d(a)\n",
    "    return np.log10(np.sqrt(np.sum(diff**2)))\n",
    "\n",
    "calculateLRSSV(b)"
   ]
  },
  {
   "cell_type": "code",
   "execution_count": null,
   "metadata": {},
   "outputs": [],
   "source": [
    "#Normalized Spectral Entropy, https://raphaelvallat.com/entropy/build/html/_modules/entropy/entropy.html\n",
    "from scipy.signal import periodogram\n",
    "def calculateSE(a):\n",
    "    _, psd = periodogram(a, 100)  #fft transform\n",
    "    psd_norm = np.divide(psd, psd.sum()) #power spectral density, measure of signal's power content versus frequency\n",
    "    se = -np.multiply(psd_norm, np.log2(psd_norm)).sum()\n",
    "    se /= np.log2(psd_norm.size)\n",
    "    return se\n",
    "calculateSE(a)"
   ]
  },
  {
   "cell_type": "code",
   "execution_count": null,
   "metadata": {},
   "outputs": [],
   "source": [
    "#Rényi entropy (RE) a measure of the entropy of the distribution P = (p1, p2,..., pn)\n",
    "def calculateRE(a, m=2):\n",
    "    return 1/(1-m) * np.log2(np.sum(a**m))\n",
    "calculateRE(b)"
   ]
  },
  {
   "cell_type": "code",
   "execution_count": null,
   "metadata": {},
   "outputs": [],
   "source": [
    "from scipy.special import digamma\n",
    "#Kraskov entropy (KE) an estimate for Shannon entropy using N samples of an m-dimensional random vector x\n",
    "#very confused???\n",
    "def calculateKE(a):\n",
    "    N = len(a)\n",
    "    k = 5 #what should be k?\n",
    "    sum_ = 0\n",
    "    for i in range(len(a)):\n",
    "        kth_nearest = sorted(sorted(a, key = lambda n: abs(a[i]-n))[:k])[-1]\n",
    "        ri = np.abs(kth_nearest - a[i])\n",
    "        if ri!=0:\n",
    "            sum_ += np.log(2*ri)\n",
    "    \n",
    "    \n",
    "    return digamma(N) - digamma(k) + 1/N * sum_\n",
    "calculateKE(a)"
   ]
  },
  {
   "cell_type": "code",
   "execution_count": null,
   "metadata": {},
   "outputs": [],
   "source": []
  }
 ],
 "metadata": {
  "kernelspec": {
   "display_name": "Python 3",
   "language": "python",
   "name": "python3"
  },
  "language_info": {
   "codemirror_mode": {
    "name": "ipython",
    "version": 3
   },
   "file_extension": ".py",
   "mimetype": "text/x-python",
   "name": "python",
   "nbconvert_exporter": "python",
   "pygments_lexer": "ipython3",
   "version": "3.7.4"
  }
 },
 "nbformat": 4,
 "nbformat_minor": 2
}

{
 "cells": [
  {
   "cell_type": "code",
   "execution_count": 1,
   "metadata": {},
   "outputs": [],
   "source": [
    "import numpy as np\n",
    "import pyrem as pr"
   ]
  },
  {
   "cell_type": "code",
   "execution_count": 27,
   "metadata": {},
   "outputs": [],
   "source": [
    "a = np.random.rand(3000)\n",
    "b = np.ones(128)"
   ]
  },
  {
   "cell_type": "code",
   "execution_count": 15,
   "metadata": {},
   "outputs": [
    {
     "data": {
      "text/plain": [
       "array([5.88829676e-01, 1.93121780e-01, 7.30572489e-01, 8.32982042e-01,\n",
       "       6.63066727e-01, 4.19252925e-01, 6.22843216e-01, 7.85363573e-01,\n",
       "       2.00550007e-01, 1.61993012e-01, 6.04594390e-01, 3.15486364e-01,\n",
       "       7.62880484e-02, 6.78619323e-01, 5.03282861e-01, 5.63121980e-01,\n",
       "       3.73144235e-01, 8.09544457e-01, 5.59483204e-01, 9.34103544e-01,\n",
       "       2.04465820e-01, 5.78047904e-01, 5.12956679e-01, 1.96477151e-01,\n",
       "       3.13827607e-01, 5.90643166e-01, 2.70538756e-01, 1.47935581e-01,\n",
       "       6.46823568e-01, 6.45215396e-01, 3.17402897e-01, 5.24434590e-01,\n",
       "       3.07371351e-01, 4.93746600e-01, 6.27249265e-01, 1.32580421e-01,\n",
       "       9.55237030e-01, 2.55518035e-02, 3.33389908e-01, 5.53787018e-01,\n",
       "       2.11776092e-01, 5.76218805e-01, 3.69584433e-01, 4.27655973e-01,\n",
       "       2.89302482e-01, 5.35731535e-01, 5.58698250e-01, 8.89200320e-01,\n",
       "       7.35227009e-01, 3.52141014e-01, 5.10632384e-01, 2.71275514e-01,\n",
       "       2.93457180e-01, 4.63612989e-01, 6.04508464e-01, 9.91615408e-01,\n",
       "       3.59418571e-01, 8.64420040e-01, 2.84006628e-01, 7.91529747e-02,\n",
       "       7.56226764e-01, 7.56858861e-02, 7.84195896e-01, 7.67729783e-01,\n",
       "       2.58363430e-01, 5.10910693e-01, 3.07797188e-01, 1.68720429e-01,\n",
       "       8.33782262e-01, 4.35182525e-01, 3.33650923e-01, 2.23278420e-01,\n",
       "       7.36208744e-01, 4.32459994e-03, 8.67593516e-01, 9.18404813e-01,\n",
       "       7.21388244e-01, 9.65293299e-01, 2.19771106e-01, 2.62419010e-01,\n",
       "       9.72365670e-01, 5.94050330e-01, 5.70957153e-01, 1.13284750e-01,\n",
       "       9.26347157e-01, 1.54888128e-01, 2.86777565e-04, 3.70245854e-01,\n",
       "       6.88057006e-01, 9.82892438e-01, 9.80206853e-01, 1.55855314e-01,\n",
       "       4.30067874e-01, 8.91258639e-01, 7.23077157e-01, 1.03998206e-01,\n",
       "       8.96529845e-01, 4.39630441e-01, 9.38055100e-01, 5.25543885e-01,\n",
       "       7.07484247e-01, 8.27136370e-02, 3.86384452e-01, 2.38087727e-01,\n",
       "       9.77886638e-01, 1.03406013e-01, 6.06876535e-02, 3.32142906e-01,\n",
       "       4.97092079e-01, 8.81171087e-01, 6.87603641e-01, 1.86338904e-01,\n",
       "       8.20378449e-01, 5.92303723e-02, 7.12254206e-01, 6.08571815e-01,\n",
       "       7.24462603e-01, 6.36359731e-01, 9.80381567e-01, 6.52945180e-01,\n",
       "       6.09226154e-01, 5.25238683e-02, 9.95508599e-01, 8.78463878e-01,\n",
       "       3.26551711e-01, 6.12176407e-01, 6.94913726e-01, 2.50456807e-01])"
      ]
     },
     "execution_count": 15,
     "metadata": {},
     "output_type": "execute_result"
    }
   ],
   "source": [
    "a"
   ]
  },
  {
   "cell_type": "code",
   "execution_count": null,
   "metadata": {},
   "outputs": [],
   "source": [
    "b"
   ]
  },
  {
   "cell_type": "code",
   "execution_count": null,
   "metadata": {},
   "outputs": [],
   "source": [
    "def calculateStandardDeviation(a):\n",
    "    return np.std(a)\n",
    "calculateStandardDeviation(a)"
   ]
  },
  {
   "cell_type": "code",
   "execution_count": null,
   "metadata": {},
   "outputs": [],
   "source": [
    "c = np.random.normal(size=int(1e6))"
   ]
  },
  {
   "cell_type": "code",
   "execution_count": null,
   "metadata": {},
   "outputs": [],
   "source": [
    "#suppose EEG data mean very close to 0, from http://gilestrolab.github.io/pyrem/_modules/pyrem/univariate.html\n",
    "def calculateHjorth(a):\n",
    "    first_deriv = np.diff(a)\n",
    "    second_deriv = np.diff(a,2)\n",
    "    var_zero = np.mean(a ** 2)\n",
    "    var_d1 = np.mean(first_deriv ** 2)\n",
    "    var_d2 = np.mean(second_deriv ** 2)\n",
    "    activity = var_zero\n",
    "    morbidity = np.sqrt(var_d1 / var_zero)\n",
    "    complexity = np.sqrt(var_d2 / var_d1) / morbidity\n",
    "    return activity, morbidity, complexity\n",
    "calculateHjorth(c)"
   ]
  },
  {
   "cell_type": "code",
   "execution_count": null,
   "metadata": {},
   "outputs": [],
   "source": [
    "# confused by term 'slide window' in the paper\n",
    "def calculateMMD(a):\n",
    "    return np.max(a) - np.min(a) # only one dimention"
   ]
  },
  {
   "cell_type": "code",
   "execution_count": null,
   "metadata": {},
   "outputs": [],
   "source": [
    "#Petrosian Fractal Dimension, complexity\n",
    "def calculatePFD(a):\n",
    "    N = len(a)\n",
    "    diff = np.ediff1d(a)\n",
    "    sign_change = (diff[1:-1] * diff[0:-2] < 0)\n",
    "    M = sign_change.sum()\n",
    "    return np.log10(N) / (np.log10(N) + np.log10(N / (N + 0.4 * M)))\n",
    "calculatePFD(a)"
   ]
  },
  {
   "cell_type": "code",
   "execution_count": null,
   "metadata": {
    "scrolled": true
   },
   "outputs": [],
   "source": [
    "#using Katz fractal dimension instead of Normalized Line Length (NLL)\n",
    "def calculateKFD(a):\n",
    "    distance = np.abs(np.ediff1d(a))\n",
    "    LL = distance.sum() #'line length'\n",
    "    LL_normalized = np.log10(np.divide(LL, distance.mean())) #original paper uses constant hyperparameter M=1\n",
    "    aux_d = a - a[0]\n",
    "    d = np.max(np.abs(aux_d[1:]))\n",
    "    return np.divide(LL_normalized, np.add(LL_normalized, np.log10(np.divide(d, LL))))\n",
    "\n",
    "print(calculateNLL(c))\n",
    "print(calculateNLL_(c))"
   ]
  },
  {
   "cell_type": "code",
   "execution_count": 25,
   "metadata": {},
   "outputs": [
    {
     "data": {
      "image/png": "[encoded data removed]",
      "text/plain": [
       "<Figure size 432x288 with 1 Axes>"
      ]
     },
     "metadata": {
      "needs_background": "light"
     },
     "output_type": "display_data"
    },
    {
     "name": "stdout",
     "output_type": "stream",
     "text": [
      "0.640773699188716\n",
      "[128, 64, 32, 16, 8, 4, 2]\n",
      "[nan, 0.651741254103972, 0.6283531679928849, 0.6318084528696455, 0.610728196370235, 0.6393880148921297, 0.6366107144466471]\n",
      "[ 0.00408709 -0.46722759]\n",
      "0.008174174528921626\n"
     ]
    }
   ],
   "source": [
    "import matplotlib.pyplot as plt\n",
    "\n",
    "#Hurst Exponent\n",
    "def getLags(arr_len):\n",
    "    if arr_len == 3000:\n",
    "        return [3000, 1500, 750, 250, 125, 60, 30, 15, 8, 4, 2]\n",
    "    else:\n",
    "        return [2**x for x in range(int(np.log2(arr_len)+1))][::-1][:-1]\n",
    "\n",
    "def calculateHurstExponent(a):\n",
    "    alen = len(a)\n",
    "    if alen < 100:\n",
    "        raise f\"Not enough datapoints to calculate Hurst Exp | Only {alen} of the required 100.\"\n",
    "    lags = getLags(alen)\n",
    "    \n",
    "    ln_lag_ls = []\n",
    "    ln_Rs_ls = []\n",
    "    for i, lag in enumerate(lags):\n",
    "        chunk = a.reshape(-1, lag)\n",
    "        \n",
    "        chunk_mean = np.mean(chunk, axis=1, dtype=np.float32, keepdims=True)\n",
    "        chunk_std = np.std(chunk, axis=1, dtype=np.float32, ddof=1) # Sample Standard deviation\n",
    "        chunk_mean_centered = np.subtract(chunk, chunk_mean)\n",
    "        cum_sum = np.cumsum(chunk_mean_centered, axis=1, dtype=np.float32)\n",
    "        \n",
    "        R = np.max(cum_sum, axis=1) - np.min(cum_sum, axis=1)\n",
    "        Rs = np.divide(R, chunk_std)\n",
    "        avg_Rs = np.mean(Rs)\n",
    "        \n",
    "        ln_lag_ls.append(np.log(lag))\n",
    "        ln_Rs_ls.append(np.log(avg_Rs))\n",
    "#     print(\"x\\n\", ln_lag_ls)\n",
    "#     print(\"y\\n\", ln_Rs_ls)\n",
    "    _ = plt.plot(ln_lag_ls, ln_Rs_ls, '.')\n",
    "    plt.show()\n",
    "    m, c = np.polyfit(ln_lag_ls,ln_Rs_ls,1)\n",
    "    return m\n",
    "\n",
    "\n",
    "\n",
    "# test = np.array([0.04, 0.02, 0.05, 0.08, 0.02, -0.17, 0.05, 0.00]) # Hurst Exponent should be ~0.87\n",
    "# print(calculateHurstExponent(test)) \n",
    "\n",
    "print(calculateHurstExponent(a))\n",
    "\n",
    "def testlala(ts):\n",
    "    alen = len(a)\n",
    "    lags = getLags(alen)\n",
    "    print(lags)\n",
    "    tau = [np.sqrt(np.std(np.subtract(ts[lag:], ts[:-lag]))) for lag in lags]\n",
    "    print(tau)\n",
    "    poly = np.polyfit(np.log(lags)[1:], np.log(tau)[1:], 1)\n",
    "    print(poly)\n",
    "    return poly[0]*2.0\n",
    "\n",
    "print(testlala(a))"
   ]
  },
  {
   "cell_type": "code",
   "execution_count": null,
   "metadata": {},
   "outputs": [],
   "source": [
    "#Log Root Sum of Sequential Variations\n",
    "#measure the sequential variations\n",
    "def calculateLRSSV(a):\n",
    "    diff = np.ediff1d(a)\n",
    "    return np.log10(np.sqrt(np.sum(diff**2)))\n",
    "\n",
    "calculateLRSSV(b)"
   ]
  },
  {
   "cell_type": "code",
   "execution_count": null,
   "metadata": {},
   "outputs": [],
   "source": [
    "#Normalized Spectral Entropy, https://raphaelvallat.com/entropy/build/html/_modules/entropy/entropy.html\n",
    "from scipy.signal import periodogram\n",
    "def calculateSE(a):\n",
    "    _, psd = periodogram(a, 100)  #fft transform\n",
    "    psd_norm = np.divide(psd, psd.sum()) #power spectral density, measure of signal's power content versus frequency\n",
    "    se = -np.multiply(psd_norm, np.log2(psd_norm)).sum()\n",
    "    se /= np.log2(psd_norm.size)\n",
    "    return se\n",
    "calculateSE(a)"
   ]
  },
  {
   "cell_type": "code",
   "execution_count": null,
   "metadata": {},
   "outputs": [],
   "source": [
    "#Rényi entropy (RE) a measure of the entropy of the distribution P = (p1, p2,..., pn)\n",
    "def calculateRE(a, m=2):\n",
    "    return 1/(1-m) * np.log2(np.sum(a**m))\n",
    "calculateRE(b)"
   ]
  },
  {
   "cell_type": "code",
   "execution_count": 29,
   "metadata": {},
   "outputs": [
    {
     "data": {
      "text/plain": [
       "-0.040031393618887634"
      ]
     },
     "execution_count": 29,
     "metadata": {},
     "output_type": "execute_result"
    }
   ],
   "source": [
    "from scipy.special import digamma\n",
    "#Kraskov entropy (KE) an estimate for Shannon entropy using N samples of an m-dimensional random vector x\n",
    "#very confused???\n",
    "def calculateKE(a):\n",
    "    N = len(a)\n",
    "    k = int(np.sqrt(N)) # sqrt of epoch len (3000)\n",
    "    sum_ = 0\n",
    "    for i in range(len(a)):\n",
    "        kth_nearest = sorted(sorted(a, key = lambda n: abs(a[i]-n))[:k])[-1]\n",
    "        ri = np.abs(kth_nearest - a[i])\n",
    "        if ri!=0:\n",
    "            sum_ += np.log(2*ri)\n",
    "    \n",
    "    \n",
    "    return digamma(N) - digamma(k) + 1/N * sum_\n",
    "calculateKE(a)"
   ]
  },
  {
   "cell_type": "code",
   "execution_count": null,
   "metadata": {},
   "outputs": [],
   "source": []
  }
 ],
 "metadata": {
  "kernelspec": {
   "display_name": "Python 3",
   "language": "python",
   "name": "python3"
  },
  "language_info": {
   "codemirror_mode": {
    "name": "ipython",
    "version": 3
   },
   "file_extension": ".py",
   "mimetype": "text/x-python",
   "name": "python",
   "nbconvert_exporter": "python",
   "pygments_lexer": "ipython3",
   "version": "3.7.4"
  }
 },
 "nbformat": 4,
 "nbformat_minor": 2
}

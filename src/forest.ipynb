{
 "cells": [
  {
   "cell_type": "code",
   "execution_count": 70,
   "metadata": {},
   "outputs": [
    {
     "data": {
      "text/html": [
       "<div>\n",
       "<style scoped>\n",
       "    .dataframe tbody tr th:only-of-type {\n",
       "        vertical-align: middle;\n",
       "    }\n",
       "\n",
       "    .dataframe tbody tr th {\n",
       "        vertical-align: top;\n",
       "    }\n",
       "\n",
       "    .dataframe thead th {\n",
       "        text-align: right;\n",
       "    }\n",
       "</style>\n",
       "<table border=\"1\" class=\"dataframe\">\n",
       "  <thead>\n",
       "    <tr style=\"text-align: right;\">\n",
       "      <th></th>\n",
       "      <th>y</th>\n",
       "      <th>avg</th>\n",
       "      <th>std</th>\n",
       "      <th>skew</th>\n",
       "      <th>kurtosis</th>\n",
       "      <th>deltaAvg</th>\n",
       "      <th>deltaSTD</th>\n",
       "      <th>deltaSkew</th>\n",
       "      <th>deltaKurtosis</th>\n",
       "      <th>thetaAvg</th>\n",
       "      <th>...</th>\n",
       "      <th>beta2Skew</th>\n",
       "      <th>beta2Kurtosis</th>\n",
       "      <th>gamma1Avg</th>\n",
       "      <th>gamma1STD</th>\n",
       "      <th>gamma1Skew</th>\n",
       "      <th>gamma1Kurtosis</th>\n",
       "      <th>gamma2Avg</th>\n",
       "      <th>gamma2STD</th>\n",
       "      <th>gamma2Skew</th>\n",
       "      <th>gamma2Kurtosis</th>\n",
       "    </tr>\n",
       "  </thead>\n",
       "  <tbody>\n",
       "    <tr>\n",
       "      <th>0</th>\n",
       "      <td>0</td>\n",
       "      <td>0.529532</td>\n",
       "      <td>0.058084</td>\n",
       "      <td>-0.685736</td>\n",
       "      <td>1.752144</td>\n",
       "      <td>0.523548</td>\n",
       "      <td>0.077820</td>\n",
       "      <td>-3.101902</td>\n",
       "      <td>18.918924</td>\n",
       "      <td>-0.000009</td>\n",
       "      <td>...</td>\n",
       "      <td>0.000389</td>\n",
       "      <td>7.041806</td>\n",
       "      <td>1.690235e-08</td>\n",
       "      <td>0.006641</td>\n",
       "      <td>-0.158945</td>\n",
       "      <td>3.082270</td>\n",
       "      <td>-9.106501e-07</td>\n",
       "      <td>0.006694</td>\n",
       "      <td>0.000329</td>\n",
       "      <td>2.726071</td>\n",
       "    </tr>\n",
       "    <tr>\n",
       "      <th>1</th>\n",
       "      <td>0</td>\n",
       "      <td>0.531818</td>\n",
       "      <td>0.071870</td>\n",
       "      <td>-0.210157</td>\n",
       "      <td>1.146164</td>\n",
       "      <td>0.524180</td>\n",
       "      <td>0.087345</td>\n",
       "      <td>-2.042932</td>\n",
       "      <td>11.992363</td>\n",
       "      <td>0.000007</td>\n",
       "      <td>...</td>\n",
       "      <td>-0.000374</td>\n",
       "      <td>2.435175</td>\n",
       "      <td>-9.565709e-07</td>\n",
       "      <td>0.006944</td>\n",
       "      <td>-0.129292</td>\n",
       "      <td>3.865791</td>\n",
       "      <td>-6.332577e-07</td>\n",
       "      <td>0.006927</td>\n",
       "      <td>0.000248</td>\n",
       "      <td>1.778316</td>\n",
       "    </tr>\n",
       "    <tr>\n",
       "      <th>2</th>\n",
       "      <td>0</td>\n",
       "      <td>0.528894</td>\n",
       "      <td>0.089424</td>\n",
       "      <td>-0.194376</td>\n",
       "      <td>0.305091</td>\n",
       "      <td>0.522206</td>\n",
       "      <td>0.101448</td>\n",
       "      <td>-1.100178</td>\n",
       "      <td>5.760006</td>\n",
       "      <td>0.000002</td>\n",
       "      <td>...</td>\n",
       "      <td>-0.000075</td>\n",
       "      <td>18.924678</td>\n",
       "      <td>-9.648182e-07</td>\n",
       "      <td>0.006543</td>\n",
       "      <td>-0.067825</td>\n",
       "      <td>13.990458</td>\n",
       "      <td>-5.110114e-07</td>\n",
       "      <td>0.006990</td>\n",
       "      <td>0.000205</td>\n",
       "      <td>11.589896</td>\n",
       "    </tr>\n",
       "    <tr>\n",
       "      <th>3</th>\n",
       "      <td>0</td>\n",
       "      <td>0.528565</td>\n",
       "      <td>0.073663</td>\n",
       "      <td>-0.251314</td>\n",
       "      <td>0.633965</td>\n",
       "      <td>0.523286</td>\n",
       "      <td>0.087901</td>\n",
       "      <td>-1.949376</td>\n",
       "      <td>11.107109</td>\n",
       "      <td>-0.000024</td>\n",
       "      <td>...</td>\n",
       "      <td>-0.000137</td>\n",
       "      <td>8.385483</td>\n",
       "      <td>6.705811e-07</td>\n",
       "      <td>0.008814</td>\n",
       "      <td>-0.129001</td>\n",
       "      <td>8.831832</td>\n",
       "      <td>3.626105e-07</td>\n",
       "      <td>0.008450</td>\n",
       "      <td>-0.000127</td>\n",
       "      <td>2.914862</td>\n",
       "    </tr>\n",
       "    <tr>\n",
       "      <th>4</th>\n",
       "      <td>0</td>\n",
       "      <td>0.530569</td>\n",
       "      <td>0.079963</td>\n",
       "      <td>-0.177536</td>\n",
       "      <td>0.332287</td>\n",
       "      <td>0.525189</td>\n",
       "      <td>0.093634</td>\n",
       "      <td>-1.502057</td>\n",
       "      <td>8.399350</td>\n",
       "      <td>0.000010</td>\n",
       "      <td>...</td>\n",
       "      <td>0.000029</td>\n",
       "      <td>19.042156</td>\n",
       "      <td>-2.272673e-06</td>\n",
       "      <td>0.007613</td>\n",
       "      <td>-0.136006</td>\n",
       "      <td>8.750508</td>\n",
       "      <td>-7.402441e-07</td>\n",
       "      <td>0.007968</td>\n",
       "      <td>0.000265</td>\n",
       "      <td>5.439911</td>\n",
       "    </tr>\n",
       "  </tbody>\n",
       "</table>\n",
       "<p>5 rows × 37 columns</p>\n",
       "</div>"
      ],
      "text/plain": [
       "   y       avg       std      skew  kurtosis  deltaAvg  deltaSTD  deltaSkew  \\\n",
       "0  0  0.529532  0.058084 -0.685736  1.752144  0.523548  0.077820  -3.101902   \n",
       "1  0  0.531818  0.071870 -0.210157  1.146164  0.524180  0.087345  -2.042932   \n",
       "2  0  0.528894  0.089424 -0.194376  0.305091  0.522206  0.101448  -1.100178   \n",
       "3  0  0.528565  0.073663 -0.251314  0.633965  0.523286  0.087901  -1.949376   \n",
       "4  0  0.530569  0.079963 -0.177536  0.332287  0.525189  0.093634  -1.502057   \n",
       "\n",
       "   deltaKurtosis  thetaAvg  ...  beta2Skew  beta2Kurtosis     gamma1Avg  \\\n",
       "0      18.918924 -0.000009  ...   0.000389       7.041806  1.690235e-08   \n",
       "1      11.992363  0.000007  ...  -0.000374       2.435175 -9.565709e-07   \n",
       "2       5.760006  0.000002  ...  -0.000075      18.924678 -9.648182e-07   \n",
       "3      11.107109 -0.000024  ...  -0.000137       8.385483  6.705811e-07   \n",
       "4       8.399350  0.000010  ...   0.000029      19.042156 -2.272673e-06   \n",
       "\n",
       "   gamma1STD  gamma1Skew  gamma1Kurtosis     gamma2Avg  gamma2STD  gamma2Skew  \\\n",
       "0   0.006641   -0.158945        3.082270 -9.106501e-07   0.006694    0.000329   \n",
       "1   0.006944   -0.129292        3.865791 -6.332577e-07   0.006927    0.000248   \n",
       "2   0.006543   -0.067825       13.990458 -5.110114e-07   0.006990    0.000205   \n",
       "3   0.008814   -0.129001        8.831832  3.626105e-07   0.008450   -0.000127   \n",
       "4   0.007613   -0.136006        8.750508 -7.402441e-07   0.007968    0.000265   \n",
       "\n",
       "   gamma2Kurtosis  \n",
       "0        2.726071  \n",
       "1        1.778316  \n",
       "2       11.589896  \n",
       "3        2.914862  \n",
       "4        5.439911  \n",
       "\n",
       "[5 rows x 37 columns]"
      ]
     },
     "execution_count": 70,
     "metadata": {},
     "output_type": "execute_result"
    }
   ],
   "source": [
    "import pandas as pd\n",
    "data = pd.read_csv('basic.csv')\n",
    "data.head(5)"
   ]
  },
  {
   "cell_type": "code",
   "execution_count": 71,
   "metadata": {},
   "outputs": [],
   "source": [
    "X = data.drop('y', axis=1)\n",
    "y = data['y']\n",
    "from sklearn.model_selection import train_test_split\n",
    "X_train, X_test, y_train, y_test = train_test_split(X, y, test_size = 0.3)"
   ]
  },
  {
   "cell_type": "code",
   "execution_count": 72,
   "metadata": {},
   "outputs": [
    {
     "data": {
      "text/plain": [
       "RandomForestClassifier(n_estimators=300, random_state=42)"
      ]
     },
     "execution_count": 72,
     "metadata": {},
     "output_type": "execute_result"
    }
   ],
   "source": [
    "from sklearn.ensemble import RandomForestClassifier\n",
    "\n",
    "rf = RandomForestClassifier(n_estimators = 300, random_state = 42)\n",
    "\n",
    "rf.fit(X_train, y_train)"
   ]
  },
  {
   "cell_type": "code",
   "execution_count": 73,
   "metadata": {},
   "outputs": [
    {
     "name": "stdout",
     "output_type": "stream",
     "text": [
      "score  1.0\n"
     ]
    }
   ],
   "source": [
    "y_pred = rf.predict(X_test)\n",
    "print('score ',rf.score(X_train, y_train))"
   ]
  },
  {
   "cell_type": "code",
   "execution_count": 74,
   "metadata": {},
   "outputs": [
    {
     "data": {
      "text/plain": [
       "array([3, 0, 0, ..., 0, 1, 2])"
      ]
     },
     "execution_count": 74,
     "metadata": {},
     "output_type": "execute_result"
    }
   ],
   "source": [
    "y_pred"
   ]
  },
  {
   "cell_type": "code",
   "execution_count": 75,
   "metadata": {},
   "outputs": [
    {
     "data": {
      "text/plain": [
       "6537     2\n",
       "11178    0\n",
       "41657    4\n",
       "41736    2\n",
       "42220    4\n",
       "39912    2\n",
       "39984    3\n",
       "7345     3\n",
       "32353    0\n",
       "39410    1\n",
       "20081    3\n",
       "10164    4\n",
       "32606    1\n",
       "13204    4\n",
       "29587    2\n",
       "17684    3\n",
       "15472    0\n",
       "12174    0\n",
       "17731    0\n",
       "30163    4\n",
       "26569    2\n",
       "11681    2\n",
       "27084    2\n",
       "2562     2\n",
       "4109     2\n",
       "24079    2\n",
       "35198    2\n",
       "23233    0\n",
       "4713     3\n",
       "3333     4\n",
       "        ..\n",
       "8643     2\n",
       "22733    4\n",
       "9747     3\n",
       "17859    3\n",
       "37105    2\n",
       "18268    3\n",
       "23696    4\n",
       "3700     2\n",
       "37947    3\n",
       "1298     2\n",
       "16016    1\n",
       "35422    2\n",
       "10180    2\n",
       "12249    2\n",
       "8038     1\n",
       "36854    2\n",
       "24864    4\n",
       "39707    2\n",
       "24877    2\n",
       "6088     2\n",
       "5446     2\n",
       "18270    3\n",
       "34165    2\n",
       "23164    1\n",
       "35517    4\n",
       "15642    0\n",
       "28027    0\n",
       "41882    0\n",
       "22055    2\n",
       "18565    2\n",
       "Name: y, Length: 12693, dtype: int64"
      ]
     },
     "execution_count": 75,
     "metadata": {},
     "output_type": "execute_result"
    }
   ],
   "source": [
    "y_test"
   ]
  },
  {
   "cell_type": "code",
   "execution_count": 76,
   "metadata": {},
   "outputs": [
    {
     "data": {
      "text/plain": [
       "0.8454266130938313"
      ]
     },
     "execution_count": 76,
     "metadata": {},
     "output_type": "execute_result"
    }
   ],
   "source": [
    "import sklearn\n",
    "a = sklearn.metrics.accuracy_score(y_pred, y_test)\n",
    "a"
   ]
  },
  {
   "cell_type": "code",
   "execution_count": null,
   "metadata": {},
   "outputs": [],
   "source": []
  },
  {
   "cell_type": "code",
   "execution_count": null,
   "metadata": {},
   "outputs": [],
   "source": [
    "#100- 0.8343969116836052\n",
    "#500 - 0.8409359489482392\n",
    "#400 - 0.8454266130938313"
   ]
  },
  {
   "cell_type": "code",
   "execution_count": null,
   "metadata": {},
   "outputs": [],
   "source": []
  },
  {
   "cell_type": "code",
   "execution_count": null,
   "metadata": {},
   "outputs": [],
   "source": []
  },
  {
   "cell_type": "code",
   "execution_count": null,
   "metadata": {},
   "outputs": [],
   "source": []
  },
  {
   "cell_type": "code",
   "execution_count": 13,
   "metadata": {},
   "outputs": [],
   "source": [
    "from sklearn.tree import export_graphviz\n",
    "import pydot\n",
    "# Pull out one tree from the forest\n",
    "tree = rf.estimators_[5]\n",
    "# Import tools needed for visualization\n",
    "from sklearn.tree import export_graphviz\n",
    "import pydot\n",
    "# Pull out one tree from the forest\n",
    "tree = rf.estimators_[5]\n",
    "# Export the image to a dot file\n",
    "export_graphviz(tree, out_file = 'tree.dot', feature_names = feature_list, rounded = True, precision = 1)\n",
    "# Use dot file to create a graph\n",
    "(graph, ) = pydot.graph_from_dot_file('tree.dot')\n",
    "# Write graph to a png file\n",
    "graph.write_png('tree.png')"
   ]
  },
  {
   "cell_type": "code",
   "execution_count": 10,
   "metadata": {},
   "outputs": [],
   "source": [
    "rf_small = RandomForestRegressor(n_estimators=10, max_depth = 3)\n",
    "rf_small.fit(train_features, train_labels)\n",
    "# Extract the small tree\n",
    "tree_small = rf_small.estimators_[5]\n",
    "# Save the tree as a png image\n",
    "export_graphviz(tree_small, out_file = 'small_tree.dot', feature_names = feature_list, rounded = True, precision = 1)\n",
    "(graph, ) = pydot.graph_from_dot_file('small_tree.dot')\n",
    "graph.write_png('small_tree.png')"
   ]
  },
  {
   "cell_type": "code",
   "execution_count": 11,
   "metadata": {},
   "outputs": [
    {
     "name": "stdout",
     "output_type": "stream",
     "text": [
      "Variable: temp_1               Importance: 0.62\n",
      "Variable: average              Importance: 0.16\n",
      "Variable: forecast_noaa        Importance: 0.06\n",
      "Variable: forecast_acc         Importance: 0.06\n",
      "Variable: day                  Importance: 0.02\n",
      "Variable: temp_2               Importance: 0.02\n",
      "Variable: forecast_under       Importance: 0.02\n",
      "Variable: friend               Importance: 0.02\n",
      "Variable: month                Importance: 0.01\n",
      "Variable: year                 Importance: 0.0\n",
      "Variable: week_Fri             Importance: 0.0\n",
      "Variable: week_Mon             Importance: 0.0\n",
      "Variable: week_Sat             Importance: 0.0\n",
      "Variable: week_Sun             Importance: 0.0\n",
      "Variable: week_Thurs           Importance: 0.0\n",
      "Variable: week_Tues            Importance: 0.0\n",
      "Variable: week_Wed             Importance: 0.0\n"
     ]
    },
    {
     "data": {
      "text/plain": [
       "[None,\n",
       " None,\n",
       " None,\n",
       " None,\n",
       " None,\n",
       " None,\n",
       " None,\n",
       " None,\n",
       " None,\n",
       " None,\n",
       " None,\n",
       " None,\n",
       " None,\n",
       " None,\n",
       " None,\n",
       " None,\n",
       " None]"
      ]
     },
     "execution_count": 11,
     "metadata": {},
     "output_type": "execute_result"
    }
   ],
   "source": [
    "importances = list(rf.feature_importances_)\n",
    "# List of tuples with variable and importance\n",
    "feature_importances = [(feature, round(importance, 2)) for feature, importance in zip(feature_list, importances)]\n",
    "# Sort the feature importances by most important first\n",
    "feature_importances = sorted(feature_importances, key = lambda x: x[1], reverse = True)\n",
    "# Print out the feature and importances \n",
    "[print('Variable: {:20} Importance: {}'.format(*pair)) for pair in feature_importances]"
   ]
  },
  {
   "cell_type": "code",
   "execution_count": 12,
   "metadata": {},
   "outputs": [
    {
     "name": "stdout",
     "output_type": "stream",
     "text": [
      "Mean Absolute Error: 3.97 degrees.\n",
      "Accuracy: 93.76 %.\n"
     ]
    }
   ],
   "source": [
    "rf_most_important = RandomForestRegressor(n_estimators= 1000, random_state=42)\n",
    "# Extract the two most important features\n",
    "important_indices = [feature_list.index('temp_1'), feature_list.index('average')]\n",
    "train_important = train_features[:, important_indices]\n",
    "test_important = test_features[:, important_indices]\n",
    "# Train the random forest\n",
    "rf_most_important.fit(train_important, train_labels)\n",
    "# Make predictions and determine the error\n",
    "predictions = rf_most_important.predict(test_important)\n",
    "errors = abs(predictions - test_labels)\n",
    "# Display the performance metrics\n",
    "print('Mean Absolute Error:', round(np.mean(errors), 2), 'degrees.')\n",
    "mape = np.mean(100 * (errors / test_labels))\n",
    "accuracy = 100 - mape\n",
    "print('Accuracy:', round(accuracy, 2), '%.')\n"
   ]
  },
  {
   "cell_type": "code",
   "execution_count": null,
   "metadata": {},
   "outputs": [],
   "source": []
  }
 ],
 "metadata": {
  "kernelspec": {
   "display_name": "Python 3",
   "language": "python",
   "name": "python3"
  },
  "language_info": {
   "codemirror_mode": {
    "name": "ipython",
    "version": 3
   },
   "file_extension": ".py",
   "mimetype": "text/x-python",
   "name": "python",
   "nbconvert_exporter": "python",
   "pygments_lexer": "ipython3",
   "version": "3.7.3"
  }
 },
 "nbformat": 4,
 "nbformat_minor": 2
}

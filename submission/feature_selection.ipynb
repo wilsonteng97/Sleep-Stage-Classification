{
 "cells": [
  {
   "cell_type": "code",
   "execution_count": 1,
   "metadata": {},
   "outputs": [],
   "source": [
    "from sklearn.svm import LinearSVC\n",
    "from sklearn.feature_selection import SelectFromModel\n",
    "import pandas as pd"
   ]
  },
  {
   "cell_type": "code",
   "execution_count": 4,
   "metadata": {},
   "outputs": [],
   "source": [
    "#train a LinearSVC to do automatic feature selection\n",
    "data = pd.read_csv('result_new.csv')\n",
    "X = data.drop('y', axis=1)\n",
    "y = data['y']\n",
    "from sklearn.model_selection import train_test_split\n",
    "X_train, X_test, y_train, y_test = train_test_split(X, y, test_size = 0.3)\n",
    "lsvc = LinearSVC(C=0.01, penalty=\"l1\", dual=False).fit(X, y)\n",
    "model = SelectFromModel(lsvc, prefit=True)\n",
    "X_new = model.transform(X)"
   ]
  },
  {
   "cell_type": "code",
   "execution_count": 9,
   "metadata": {},
   "outputs": [],
   "source": [
    "import numpy as np\n",
    "size = X.shape[0]\n",
    "idx = np.arange(size)\n",
    "np.random.shuffle(idx)\n",
    "split = int(0.8 * size) #train test split\n",
    "train_idx, test_idx = idx[:split], idx[split:]"
   ]
  },
  {
   "cell_type": "code",
   "execution_count": 10,
   "metadata": {},
   "outputs": [],
   "source": [
    "#construct train test nparray files\n",
    "y = y.to_numpy()\n",
    "train_x = np.zeros((len(train_idx), X_new.shape[1]))\n",
    "train_y = np.zeros(len(train_idx))\n",
    "for i in range(len(train_idx)):\n",
    "    train_x[i] = X_new[i]\n",
    "    train_y[i] = y[i]\n",
    "    \n",
    "test_x = np.zeros((len(test_idx), X_new.shape[1]))\n",
    "test_y = np.zeros(len(test_idx))\n",
    "for i in range(len(test_idx)):\n",
    "    test_x[i] = X_new[i]\n",
    "    test_y[i] = y[i]\n",
    "np.savetxt(\"train_x.csv\", train_x, delimiter=\",\")\n",
    "np.savetxt(\"train_y.csv\", train_y, delimiter=\",\")\n",
    "np.savetxt(\"test_x.csv\", test_x, delimiter=\",\")\n",
    "np.savetxt(\"test_y.csv\", test_y, delimiter=\",\")"
   ]
  }
 ],
 "metadata": {
  "kernelspec": {
   "display_name": "Python 3",
   "language": "python",
   "name": "python3"
  },
  "language_info": {
   "codemirror_mode": {
    "name": "ipython",
    "version": 3
   },
   "file_extension": ".py",
   "mimetype": "text/x-python",
   "name": "python",
   "nbconvert_exporter": "python",
   "pygments_lexer": "ipython3",
   "version": "3.7.3"
  }
 },
 "nbformat": 4,
 "nbformat_minor": 2
}
